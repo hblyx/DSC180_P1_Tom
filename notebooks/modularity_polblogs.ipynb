{
 "cells": [
  {
   "cell_type": "code",
   "execution_count": 1,
   "metadata": {},
   "outputs": [],
   "source": [
    "import sys\n",
    "sys.path.append('..')\n",
    "\n",
    "import networkx as nx\n",
    "\n",
    "from collections import defaultdict\n",
    "from src.features import max_intersect_accuracy as ac\n",
    "\n",
    "r_seed = 123"
   ]
  },
  {
   "cell_type": "markdown",
   "metadata": {},
   "source": [
    "### Read dataset"
   ]
  },
  {
   "cell_type": "code",
   "execution_count": 2,
   "metadata": {},
   "outputs": [
    {
     "name": "stdout",
     "output_type": "stream",
     "text": [
      "Number of nodes: 1490\n",
      "Number of edges: 19090\n"
     ]
    }
   ],
   "source": [
    "G = nx.read_gml(\"../data/raw/polblogs.gml\")\n",
    "print(\"Number of nodes:\", G.order())\n",
    "print(\"Number of edges:\", G.size())"
   ]
  },
  {
   "cell_type": "code",
   "execution_count": 3,
   "metadata": {},
   "outputs": [],
   "source": [
    "actual_com = defaultdict(set)\n",
    "for i in G.nodes:\n",
    "    com = G.nodes[i][\"value\"]\n",
    "    actual_com[com].add(i)\n",
    "    \n",
    "actual = [actual_com[i] for i in actual_com]\n"
   ]
  },
  {
   "cell_type": "markdown",
   "metadata": {},
   "source": [
    "## Test Performance"
   ]
  },
  {
   "cell_type": "code",
   "execution_count": 5,
   "metadata": {},
   "outputs": [
    {
     "name": "stdout",
     "output_type": "stream",
     "text": [
      "Average Accuracy: 0.557742909872111\n"
     ]
    }
   ],
   "source": [
    "partition = nx.algorithms.community.louvain_communities(G)\n",
    "accs = ac.computeAccuracies(actual, partition)\n",
    "\n",
    "print(\"Average Accuracy:\", accs)"
   ]
  },
  {
   "cell_type": "markdown",
   "metadata": {},
   "source": [
    "We can see that the accuracy is better than the randomness, baseline, and the weighted threshold algorithm. This is expected, since modularity measures the partition based on structure of community. Then, Louvain maximize the modularity. Therefore, it can find the communities most following the structure of community."
   ]
  }
 ],
 "metadata": {
  "kernelspec": {
   "display_name": "Python 3.9.15 ('base')",
   "language": "python",
   "name": "python3"
  },
  "language_info": {
   "codemirror_mode": {
    "name": "ipython",
    "version": 3
   },
   "file_extension": ".py",
   "mimetype": "text/x-python",
   "name": "python",
   "nbconvert_exporter": "python",
   "pygments_lexer": "ipython3",
   "version": "3.9.15"
  },
  "orig_nbformat": 4,
  "vscode": {
   "interpreter": {
    "hash": "0fd178b88fe9aab8671e4dbad5a437db91a73abc44bb831f68e3e650b6c433cd"
   }
  }
 },
 "nbformat": 4,
 "nbformat_minor": 2
}
