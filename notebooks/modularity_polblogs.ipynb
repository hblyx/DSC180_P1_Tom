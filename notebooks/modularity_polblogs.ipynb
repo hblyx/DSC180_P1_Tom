{
 "cells": [
  {
   "cell_type": "code",
   "execution_count": 1,
   "metadata": {},
   "outputs": [],
   "source": [
    "import sys\n",
    "sys.path.append('..')\n",
    "\n",
    "import networkx as nx\n",
    "import numpy as np\n",
    "\n",
    "from collections import defaultdict\n",
    "\n",
    "r_seed = 123\n",
    "\n",
    "%load_ext autoreload\n",
    "%autoreload 2"
   ]
  },
  {
   "cell_type": "markdown",
   "metadata": {},
   "source": [
    "### Read dataset"
   ]
  },
  {
   "cell_type": "code",
   "execution_count": 2,
   "metadata": {},
   "outputs": [
    {
     "name": "stdout",
     "output_type": "stream",
     "text": [
      "Number of nodes: 1490\n",
      "Number of edges: 19090\n"
     ]
    }
   ],
   "source": [
    "G = nx.read_gml(\"../data/raw/polblogs.gml\")\n",
    "print(\"Number of nodes:\", G.order())\n",
    "print(\"Number of edges:\", G.size())"
   ]
  },
  {
   "cell_type": "code",
   "execution_count": 3,
   "metadata": {},
   "outputs": [
    {
     "data": {
      "text/plain": [
       "758"
      ]
     },
     "execution_count": 3,
     "metadata": {},
     "output_type": "execute_result"
    }
   ],
   "source": [
    "actual_com = defaultdict(set)\n",
    "for i in G.nodes:\n",
    "    com = G.nodes[i][\"value\"]\n",
    "    actual_com[com].add(i)\n",
    "\n",
    "len(actual_com[0])\n"
   ]
  },
  {
   "cell_type": "markdown",
   "metadata": {},
   "source": [
    "#### Get method to calculate max intersected accuracy"
   ]
  },
  {
   "cell_type": "code",
   "execution_count": 4,
   "metadata": {},
   "outputs": [],
   "source": [
    "def getMaxIntersectAccuracy(communities: list, predictions: list):\n",
    "    max_intersection = dict()\n",
    "    for com in communities:\n",
    "        max_intersection[com] = 0.0\n",
    "        \n",
    "        for pred in predictions:\n",
    "            intersection = len(communities[com].intersection(pred))\n",
    "            max_intersection[com] = max(max_intersection[com], intersection)\n",
    "            \n",
    "        # get accuracy\n",
    "        max_intersection[com] = max_intersection[com] / len(communities[com])\n",
    "    \n",
    "    return max_intersection"
   ]
  },
  {
   "cell_type": "markdown",
   "metadata": {},
   "source": [
    "## Test Performance"
   ]
  },
  {
   "cell_type": "code",
   "execution_count": 5,
   "metadata": {},
   "outputs": [
    {
     "name": "stdout",
     "output_type": "stream",
     "text": [
      "Accuracy per actual communities:\n",
      "\t {0: 0.633245382585752, 1: 0.5887978142076503}\n",
      "Average Accuracy: 0.6110215983967011\n"
     ]
    }
   ],
   "source": [
    "partition = nx.algorithms.community.louvain_communities(G)\n",
    "accs = getMaxIntersectAccuracy(communities=actual_com, predictions=partition)\n",
    "\n",
    "print(\"Accuracy per actual communities:\")\n",
    "print(\"\\t\", accs)\n",
    "\n",
    "print(\"Average Accuracy:\", np.mean(list(accs.values())))"
   ]
  },
  {
   "cell_type": "markdown",
   "metadata": {},
   "source": [
    "We can see that the accuracy is better than the randomness, and this is expected. Specifically, since modularity measures the partition based on structure of community, Louvain maximize the modularity. Therefore, it can find the communities most following the structure of community."
   ]
  }
 ],
 "metadata": {
  "kernelspec": {
   "display_name": "Python 3.9.15 ('base')",
   "language": "python",
   "name": "python3"
  },
  "language_info": {
   "codemirror_mode": {
    "name": "ipython",
    "version": 3
   },
   "file_extension": ".py",
   "mimetype": "text/x-python",
   "name": "python",
   "nbconvert_exporter": "python",
   "pygments_lexer": "ipython3",
   "version": "3.9.15"
  },
  "orig_nbformat": 4,
  "vscode": {
   "interpreter": {
    "hash": "0fd178b88fe9aab8671e4dbad5a437db91a73abc44bb831f68e3e650b6c433cd"
   }
  }
 },
 "nbformat": 4,
 "nbformat_minor": 2
}
