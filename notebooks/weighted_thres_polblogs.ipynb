{
 "cells": [
  {
   "cell_type": "code",
   "execution_count": 11,
   "metadata": {},
   "outputs": [
    {
     "name": "stdout",
     "output_type": "stream",
     "text": [
      "The autoreload extension is already loaded. To reload it, use:\n",
      "  %reload_ext autoreload\n"
     ]
    }
   ],
   "source": [
    "import sys\n",
    "sys.path.append('..')\n",
    "\n",
    "import networkx as nx\n",
    "import pandas as pd\n",
    "import matplotlib.pyplot as plt\n",
    "import seaborn as sns\n",
    "import numpy as np\n",
    "\n",
    "from src.models import common_neighbor_community as cnc\n",
    "from src.features import max_intersect_accuracy as ac\n",
    "\n",
    "r_seed = 123\n",
    "\n",
    "%load_ext autoreload\n",
    "%autoreload 2"
   ]
  },
  {
   "cell_type": "markdown",
   "metadata": {},
   "source": [
    "### Read dataset\n",
    "\n",
    "Since the dataset is actually directed, we make it undirected to enable common neighbors methods."
   ]
  },
  {
   "cell_type": "code",
   "execution_count": 12,
   "metadata": {},
   "outputs": [
    {
     "name": "stdout",
     "output_type": "stream",
     "text": [
      "Number of nodes: 1490\n",
      "Number of edges: 16783\n"
     ]
    }
   ],
   "source": [
    "G = nx.read_gml(\"../data/raw/polblogs.gml\").to_undirected()\n",
    "print(\"Number of nodes:\", G.order())\n",
    "print(\"Number of edges:\", G.size())"
   ]
  },
  {
   "cell_type": "code",
   "execution_count": 13,
   "metadata": {},
   "outputs": [
    {
     "data": {
      "text/plain": [
       "{'value': 0, 'source': 'Blogarama'}"
      ]
     },
     "execution_count": 13,
     "metadata": {},
     "output_type": "execute_result"
    }
   ],
   "source": [
    "G.nodes[\"100monkeystyping.com\"]"
   ]
  },
  {
   "cell_type": "code",
   "execution_count": 14,
   "metadata": {},
   "outputs": [
    {
     "data": {
      "text/plain": [
       "0"
      ]
     },
     "execution_count": 14,
     "metadata": {},
     "output_type": "execute_result"
    }
   ],
   "source": [
    "actual_com = {}\n",
    "for i in G.nodes:\n",
    "    actual_com[i] = G.nodes[i][\"value\"]\n",
    "\n",
    "actual_com[\"100monkeystyping.com\"]\n"
   ]
  },
  {
   "cell_type": "markdown",
   "metadata": {},
   "source": [
    "## Find the best threshold and test performance\n",
    "\n",
    "Simply try a range of possible thresholds"
   ]
  },
  {
   "cell_type": "code",
   "execution_count": 15,
   "metadata": {},
   "outputs": [],
   "source": [
    "def differentThes(lower_thres, higher_thres, interval, CNC):\n",
    "    avg_accs = []\n",
    "    ths = []\n",
    "    max_thres = None\n",
    "    max_acc = 0.0\n",
    "    for thres in np.arange(lower_thres, higher_thres, interval):\n",
    "        CNC.findAllCommunities(thres=thres, weighted=True)\n",
    "        actual = CNC.getActualCommunities()\n",
    "        pred = CNC.getPredCommunities()\n",
    "        \n",
    "        \n",
    "        ths.append(thres)\n",
    "        acc = ac.computeAccuracies(actual, pred)\n",
    "        avg_accs.append(acc)\n",
    "        \n",
    "        if acc > max_acc:\n",
    "            max_acc = acc\n",
    "            max_thres = thres\n",
    "    \n",
    "    return pd.DataFrame({\"accuracy\": avg_accs, \"threshold\": ths}), max_acc, max_thres\n",
    "\n",
    "def plotThresAcc(df):\n",
    "    sns.lineplot(data=df, x=\"threshold\", y=\"accuracy\")\n",
    "    plt.title(\"Accuracy per Threshold\")\n",
    "    plt.show()\n",
    "    plt.close()"
   ]
  },
  {
   "cell_type": "markdown",
   "metadata": {},
   "source": [
    "Specifically, attemp $0.01$ to $0.50$ which means $1\\%$ to $50\\%$ degrees are common neighbors determine two nodes are within a same community."
   ]
  },
  {
   "cell_type": "code",
   "execution_count": 16,
   "metadata": {},
   "outputs": [
    {
     "name": "stdout",
     "output_type": "stream",
     "text": [
      "Max Accuracy: 0.43574549072191704\n",
      "Max Threshold: 0.0\n"
     ]
    },
    {
     "data": {
      "image/png": "[encoded data removed]",
      "text/plain": [
       "<Figure size 640x480 with 1 Axes>"
      ]
     },
     "metadata": {},
     "output_type": "display_data"
    }
   ],
   "source": [
    "CNC = cnc.CommonNeighborCommunity(G, actual_com) # reset the graph\n",
    "df, max_acc, max_thres = differentThes(0.00, 0.5, 0.01, CNC)\n",
    "\n",
    "CNC.findAllCommunities(thres=max_thres, weighted=True)\n",
    "\n",
    "print(\"Max Accuracy:\", max_acc)\n",
    "print(\"Max Threshold:\", max_thres)\n",
    "plotThresAcc(df)"
   ]
  },
  {
   "cell_type": "markdown",
   "metadata": {},
   "source": [
    "As we can see the best average max intersected accuracy is $0.43$ which means this is under the baseline model for this dataset. More specifically, since this max accuracy occurs when the threshold is $0.0$ which means if there is any common neighbor between two nodes they are within the same community. However, this algorithm performs really bad in this dataset because the within community probability is quite low. In other words, for nodes within the same community, they are not likely to be connected with a common neighbor.\n",
    "\n",
    "More specifically, we can see `notebookx/polblogs_stats.ipynb`. The in-group probability is $0.0315$ which is much lower than other networks we've tested, including $0.3$ for all random networks and $0.36$ for EU emails."
   ]
  }
 ],
 "metadata": {
  "kernelspec": {
   "display_name": "Python 3.9.15 ('base')",
   "language": "python",
   "name": "python3"
  },
  "language_info": {
   "codemirror_mode": {
    "name": "ipython",
    "version": 3
   },
   "file_extension": ".py",
   "mimetype": "text/x-python",
   "name": "python",
   "nbconvert_exporter": "python",
   "pygments_lexer": "ipython3",
   "version": "3.9.15"
  },
  "orig_nbformat": 4,
  "vscode": {
   "interpreter": {
    "hash": "0fd178b88fe9aab8671e4dbad5a437db91a73abc44bb831f68e3e650b6c433cd"
   }
  }
 },
 "nbformat": 4,
 "nbformat_minor": 2
}
