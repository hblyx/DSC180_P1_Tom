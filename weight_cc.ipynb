{
 "cells": [
  {
   "cell_type": "code",
   "execution_count": 1,
   "metadata": {
    "collapsed": false,
    "pycharm": {
     "name": "#%%\n"
    }
   },
   "outputs": [],
   "source": [
    "import networkx as nx\n",
    "import src.DFS_common_neighbor as dcn\n",
    "import src.visualizations_cc as vis\n",
    "\n",
    "r_seed = 12345\n",
    "\n",
    "%load_ext autoreload\n",
    "%autoreload 2"
   ]
  },
  {
   "cell_type": "markdown",
   "metadata": {
    "collapsed": false,
    "pycharm": {
     "name": "#%% md\n"
    }
   },
   "source": [
    "### Try big different random graph"
   ]
  },
  {
   "cell_type": "code",
   "execution_count": 2,
   "metadata": {
    "collapsed": false,
    "pycharm": {
     "name": "#%%\n"
    }
   },
   "outputs": [],
   "source": [
    "N = 300\n",
    "n_groups = 3\n",
    "p_in_group = 0.1\n",
    "p_out_group = 0.01\n",
    "G = nx.planted_partition_graph(n_groups, 100, p_in_group, p_out_group, seed=r_seed)"
   ]
  },
  {
   "cell_type": "code",
   "execution_count": 3,
   "metadata": {
    "collapsed": false,
    "pycharm": {
     "name": "#%%\n"
    }
   },
   "outputs": [
    {
     "data": {
      "text/plain": [
       "0.01"
      ]
     },
     "execution_count": 3,
     "metadata": {},
     "output_type": "execute_result"
    }
   ],
   "source": [
    "com_0 = dcn.findCommunities(G, 0, thre = 5)\n",
    "vis.find_acc(com_0, 0, 100)"
   ]
  },
  {
   "cell_type": "code",
   "execution_count": 4,
   "metadata": {
    "collapsed": false,
    "pycharm": {
     "name": "#%%\n"
    }
   },
   "outputs": [
    {
     "name": "stdout",
     "output_type": "stream",
     "text": [
      "predicted community is larger than actual: 179\n",
      "\tWeight: 0.006\n",
      "predicted community is larger than actual: 179\n",
      "\tWeight: 0.006500000000000001\n",
      "\n",
      "Max accuracy: 0.61 \n",
      "\tWeight: 0.007000000000000001 \n",
      "\tThreshold: 1.0258\n"
     ]
    },
    {
     "data": {
      "image/png": "[encoded data removed]",
      "text/plain": [
       "<Figure size 432x288 with 1 Axes>"
      ]
     },
     "metadata": {
      "needs_background": "light"
     },
     "output_type": "display_data"
    }
   ],
   "source": [
    "vis.thred_acc_plot(vis.tuning_thred(0.006, 0.02, 0.0005, G, 0))"
   ]
  },
  {
   "cell_type": "markdown",
   "metadata": {
    "collapsed": false,
    "pycharm": {
     "name": "#%% md\n"
    }
   },
   "source": [
    "### Try small different random graph"
   ]
  },
  {
   "cell_type": "code",
   "execution_count": 5,
   "metadata": {
    "collapsed": false,
    "pycharm": {
     "name": "#%%\n"
    }
   },
   "outputs": [],
   "source": [
    "N = 300\n",
    "n_groups = 3\n",
    "p_in_group = 0.1\n",
    "p_out_group = 0.09\n",
    "G = nx.planted_partition_graph(n_groups, 100, p_in_group, p_out_group, seed=r_seed)"
   ]
  },
  {
   "cell_type": "code",
   "execution_count": 6,
   "metadata": {
    "collapsed": false,
    "pycharm": {
     "name": "#%%\n"
    }
   },
   "outputs": [
    {
     "name": "stdout",
     "output_type": "stream",
     "text": [
      "predicted community is larger than actual: 200\n",
      "\tWeight: 0.0001\n",
      "predicted community is larger than actual: 200\n",
      "\tWeight: 0.0002\n",
      "predicted community is larger than actual: 200\n",
      "\tWeight: 0.00030000000000000003\n",
      "predicted community is larger than actual: 200\n",
      "\tWeight: 0.0004\n",
      "predicted community is larger than actual: 200\n",
      "\tWeight: 0.0005\n",
      "predicted community is larger than actual: 200\n",
      "\tWeight: 0.0006000000000000001\n",
      "predicted community is larger than actual: 200\n",
      "\tWeight: 0.0007000000000000001\n",
      "predicted community is larger than actual: 200\n",
      "\tWeight: 0.0008\n",
      "predicted community is larger than actual: 200\n",
      "\tWeight: 0.0009000000000000001\n",
      "predicted community is larger than actual: 200\n",
      "\tWeight: 0.001\n",
      "predicted community is larger than actual: 200\n",
      "\tWeight: 0.0011\n",
      "predicted community is larger than actual: 200\n",
      "\tWeight: 0.0012000000000000001\n",
      "predicted community is larger than actual: 200\n",
      "\tWeight: 0.0013000000000000002\n",
      "predicted community is larger than actual: 199\n",
      "\tWeight: 0.0014000000000000002\n",
      "predicted community is larger than actual: 199\n",
      "\tWeight: 0.0015\n",
      "predicted community is larger than actual: 199\n",
      "\tWeight: 0.0016\n",
      "predicted community is larger than actual: 199\n",
      "\tWeight: 0.0017000000000000001\n",
      "predicted community is larger than actual: 199\n",
      "\tWeight: 0.0018000000000000002\n",
      "predicted community is larger than actual: 199\n",
      "\tWeight: 0.0019000000000000002\n",
      "predicted community is larger than actual: 199\n",
      "\tWeight: 0.002\n",
      "predicted community is larger than actual: 199\n",
      "\tWeight: 0.0021\n",
      "predicted community is larger than actual: 199\n",
      "\tWeight: 0.0022\n",
      "predicted community is larger than actual: 199\n",
      "\tWeight: 0.0023\n",
      "predicted community is larger than actual: 199\n",
      "\tWeight: 0.0024\n",
      "predicted community is larger than actual: 199\n",
      "\tWeight: 0.0025\n",
      "predicted community is larger than actual: 199\n",
      "\tWeight: 0.0026\n",
      "predicted community is larger than actual: 199\n",
      "\tWeight: 0.0027\n",
      "predicted community is larger than actual: 192\n",
      "\tWeight: 0.0028\n",
      "predicted community is larger than actual: 192\n",
      "\tWeight: 0.0029\n",
      "predicted community is larger than actual: 192\n",
      "\tWeight: 0.003\n",
      "predicted community is larger than actual: 192\n",
      "\tWeight: 0.0031\n",
      "predicted community is larger than actual: 192\n",
      "\tWeight: 0.0032\n",
      "predicted community is larger than actual: 192\n",
      "\tWeight: 0.0033\n",
      "predicted community is larger than actual: 192\n",
      "\tWeight: 0.0034\n",
      "predicted community is larger than actual: 192\n",
      "\tWeight: 0.0035\n",
      "predicted community is larger than actual: 192\n",
      "\tWeight: 0.0036\n",
      "predicted community is larger than actual: 192\n",
      "\tWeight: 0.0037\n",
      "predicted community is larger than actual: 192\n",
      "\tWeight: 0.0038\n",
      "predicted community is larger than actual: 192\n",
      "\tWeight: 0.0039\n",
      "predicted community is larger than actual: 192\n",
      "\tWeight: 0.004\n",
      "predicted community is larger than actual: 151\n",
      "\tWeight: 0.0041\n",
      "predicted community is larger than actual: 151\n",
      "\tWeight: 0.004200000000000001\n",
      "predicted community is larger than actual: 151\n",
      "\tWeight: 0.004300000000000001\n",
      "predicted community is larger than actual: 151\n",
      "\tWeight: 0.0044\n",
      "predicted community is larger than actual: 151\n",
      "\tWeight: 0.0045000000000000005\n",
      "predicted community is larger than actual: 151\n",
      "\tWeight: 0.004600000000000001\n",
      "predicted community is larger than actual: 151\n",
      "\tWeight: 0.0047\n",
      "predicted community is larger than actual: 151\n",
      "\tWeight: 0.0048000000000000004\n",
      "predicted community is larger than actual: 151\n",
      "\tWeight: 0.004900000000000001\n",
      "predicted community is larger than actual: 151\n",
      "\tWeight: 0.005\n",
      "predicted community is larger than actual: 151\n",
      "\tWeight: 0.0051\n",
      "predicted community is larger than actual: 151\n",
      "\tWeight: 0.005200000000000001\n",
      "predicted community is larger than actual: 151\n",
      "\tWeight: 0.005300000000000001\n",
      "predicted community is larger than actual: 151\n",
      "\tWeight: 0.0054\n",
      "predicted community is larger than actual: 21\n",
      "\tWeight: 0.0055000000000000005\n",
      "predicted community is larger than actual: 21\n",
      "\tWeight: 0.005600000000000001\n",
      "predicted community is larger than actual: 21\n",
      "\tWeight: 0.0057\n",
      "predicted community is larger than actual: 21\n",
      "\tWeight: 0.0058000000000000005\n",
      "predicted community is larger than actual: 21\n",
      "\tWeight: 0.005900000000000001\n",
      "predicted community is larger than actual: 21\n",
      "\tWeight: 0.006\n",
      "predicted community is larger than actual: 21\n",
      "\tWeight: 0.0061\n",
      "predicted community is larger than actual: 21\n",
      "\tWeight: 0.006200000000000001\n",
      "predicted community is larger than actual: 21\n",
      "\tWeight: 0.006300000000000001\n",
      "predicted community is larger than actual: 21\n",
      "\tWeight: 0.0064\n",
      "predicted community is larger than actual: 21\n",
      "\tWeight: 0.006500000000000001\n",
      "predicted community is larger than actual: 21\n",
      "\tWeight: 0.006600000000000001\n",
      "predicted community is larger than actual: 21\n",
      "\tWeight: 0.0067\n",
      "\n",
      "Max accuracy: 0.3554 \n",
      "\tWeight: 0.0055000000000000005 \n",
      "\tThreshold: 4.0578\n"
     ]
    },
    {
     "data": {
      "image/png": "[encoded data removed]",
      "text/plain": [
       "<Figure size 432x288 with 1 Axes>"
      ]
     },
     "metadata": {
      "needs_background": "light"
     },
     "output_type": "display_data"
    }
   ],
   "source": [
    "vis.thred_acc_plot(vis.tuning_thred(0.0001, 0.01, 0.0001, G, 0))"
   ]
  }
 ],
 "metadata": {
  "kernelspec": {
   "display_name": "Python 3.9.7 ('base')",
   "language": "python",
   "name": "python3"
  },
  "language_info": {
   "codemirror_mode": {
    "name": "ipython",
    "version": 3
   },
   "file_extension": ".py",
   "mimetype": "text/x-python",
   "name": "python",
   "nbconvert_exporter": "python",
   "pygments_lexer": "ipython3",
   "version": "3.9.7"
  },
  "vscode": {
   "interpreter": {
    "hash": "ad2bdc8ecc057115af97d19610ffacc2b4e99fae6737bb82f5d7fb13d2f2c186"
   }
  }
 },
 "nbformat": 4,
 "nbformat_minor": 0
}
